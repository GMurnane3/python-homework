{
 "cells": [
  {
   "cell_type": "code",
   "execution_count": 20,
   "metadata": {},
   "outputs": [],
   "source": [
    "import os\n",
    "import pandas as pd\n",
    "from dotenv import load_dotenv\n",
    "load_dotenv()\n",
    "\n",
    "data = {'Stocks':[\"SPY\",\"DIA\",\"QQQ\",\"GLD\",\"IEF\"], 'Quantity':[100, 100, 100, 100, 100]} #Define your holdings\n",
    "\n",
    "# Create a DataFrame of holdings\n",
    "df = pd.DataFrame(data)"
   ]
  },
  {
   "cell_type": "code",
   "execution_count": 21,
   "metadata": {},
   "outputs": [],
   "source": [
    "from tiingo import TiingoClient\n",
    "\n",
    "api_key = os.getenv(\"TIINGO_API_KEY\")\n",
    "\n",
    "def SourceHistoricPrices():\n",
    "    if info == 1: print('[INFO] Fetching stock prices for portfolio holdings')\n",
    "    \n",
    "    #Set Up for Tiingo\n",
    "    config = {}\n",
    "    config['session'] = True\n",
    "    config['api_key'] = 'private key'\n",
    "    client = TiingoClient(config)\n",
    "    \n",
    "    #Create a list of tickers for the API call\n",
    "    Tickers = []\n",
    "    i=0\n",
    "    for ticker in data:\n",
    "        while i <= len(data):\n",
    "            Tickers.append(data[ticker][i])\n",
    "            i=i+1\n",
    "    if info == 1: print('[INFO] Portfolio Holdings determined as', Tickers)\n",
    "    if info == 1: print('[INFO] Portfolio Weights determined as', data['Quantity'])\n",
    "    #Call the API and store the data\n",
    "    global HistData\n",
    "    HistData = client.get_dataframe(Tickers, metric_name='close', startDate=dateforNoOfScenarios(today), endDate=today)\n",
    "    if info == 1: print('[INFO] Fetching stock prices completed.', len(HistData), 'days.')\n",
    "    return(HistData)"
   ]
  },
  {
   "cell_type": "code",
   "execution_count": 17,
   "metadata": {},
   "outputs": [
    {
     "ename": "NameError",
     "evalue": "name 'HistData' is not defined",
     "output_type": "error",
     "traceback": [
      "\u001b[1;31m---------------------------------------------------------------------------\u001b[0m",
      "\u001b[1;31mNameError\u001b[0m                                 Traceback (most recent call last)",
      "\u001b[1;32m<ipython-input-17-b87881bbb77d>\u001b[0m in \u001b[0;36m<module>\u001b[1;34m\u001b[0m\n\u001b[1;32m----> 1\u001b[1;33m \u001b[0mHistData\u001b[0m\u001b[1;33m.\u001b[0m\u001b[0mhead\u001b[0m\u001b[1;33m(\u001b[0m\u001b[1;33m)\u001b[0m\u001b[1;33m\u001b[0m\u001b[1;33m\u001b[0m\u001b[0m\n\u001b[0m",
      "\u001b[1;31mNameError\u001b[0m: name 'HistData' is not defined"
     ]
    }
   ],
   "source": [
    "HistData.head()"
   ]
  },
  {
   "cell_type": "code",
   "execution_count": 6,
   "metadata": {},
   "outputs": [],
   "source": [
    "import datetime"
   ]
  },
  {
   "cell_type": "code",
   "execution_count": 7,
   "metadata": {},
   "outputs": [],
   "source": [
    "ScenariosNo = 500 #Define the number of scenarios you want to run\n",
    "\n",
    "today = datetime.date.today() - datetime.timedelta(days=1)\n",
    "\n",
    "def is_business_day(date):\n",
    "    return bool(len(pd.bdate_range(date, date)))\n",
    "\n",
    "def dateforNoOfScenarios(date):\n",
    "    i=0\n",
    "    w=0\n",
    "    while i < ScenariosNo:\n",
    "        if (is_business_day(today - datetime.timedelta(days = w)) == True):\n",
    "            i = i+1\n",
    "            w = w+1\n",
    "        else:\n",
    "            w = w+1\n",
    "            continue\n",
    "    #print('gotta go back these many business days',i)\n",
    "    #print('gotta go back these many days',w)\n",
    "    #remember to add an extra day as percentage difference will leave first value blank (days +1 = scenario numbers)\n",
    "    return(today - datetime.timedelta(days = w*1.04 + 1)) #4% is an arbitrary number I've calculated the holidays to be in 500days."
   ]
  },
  {
   "cell_type": "code",
   "execution_count": 11,
   "metadata": {},
   "outputs": [],
   "source": [
    "# Value the Portfolio\n",
    "\n",
    "def ValuePortfolio():\n",
    "    HistData['PortValue'] = 0\n",
    "    i=0\n",
    "    if info == 1: print('[INFO] Calculating the portfolio value for each day')\n",
    "    while i<= len(data):\n",
    "        stock = data['Stocks'][i]\n",
    "        quantity = data['Quantity'][i]\n",
    "        HistData['PortValue'] = HistData[stock] * quantity + HistData['PortValue']\n",
    "        i = i+1"
   ]
  },
  {
   "cell_type": "code",
   "execution_count": 12,
   "metadata": {},
   "outputs": [],
   "source": [
    "#Calculate Percentage Change\n",
    "\n",
    "def CalculateVaR():\n",
    "    if info == 1: print('[INFO] Calculating Daily % Changes')\n",
    "    HistData['Perc_Change'] = HistData['PortValue'].pct_change()"
   ]
  },
  {
   "cell_type": "code",
   "execution_count": 13,
   "metadata": {},
   "outputs": [
    {
     "ename": "NameError",
     "evalue": "name 'HistData' is not defined",
     "output_type": "error",
     "traceback": [
      "\u001b[1;31m---------------------------------------------------------------------------\u001b[0m",
      "\u001b[1;31mNameError\u001b[0m                                 Traceback (most recent call last)",
      "\u001b[1;32m<ipython-input-13-fbc61a198182>\u001b[0m in \u001b[0;36m<module>\u001b[1;34m\u001b[0m\n\u001b[1;32m----> 1\u001b[1;33m \u001b[0mHistData\u001b[0m\u001b[1;33m[\u001b[0m\u001b[1;34m'DollarChange'\u001b[0m\u001b[1;33m]\u001b[0m \u001b[1;33m=\u001b[0m \u001b[0mHistData\u001b[0m\u001b[1;33m.\u001b[0m\u001b[0mloc\u001b[0m\u001b[1;33m[\u001b[0m\u001b[0mHistData\u001b[0m\u001b[1;33m.\u001b[0m\u001b[0mindex\u001b[0m\u001b[1;33m.\u001b[0m\u001b[0mmax\u001b[0m\u001b[1;33m(\u001b[0m\u001b[1;33m)\u001b[0m\u001b[1;33m]\u001b[0m\u001b[1;33m[\u001b[0m\u001b[1;34m'PortValue'\u001b[0m\u001b[1;33m]\u001b[0m \u001b[1;33m*\u001b[0m \u001b[0mHistData\u001b[0m\u001b[1;33m[\u001b[0m\u001b[1;34m'Perc_Change'\u001b[0m\u001b[1;33m]\u001b[0m \u001b[1;31m#calculate money change based on current valuation\u001b[0m\u001b[1;33m\u001b[0m\u001b[1;33m\u001b[0m\u001b[0m\n\u001b[0m\u001b[0;32m      2\u001b[0m \u001b[1;32mif\u001b[0m \u001b[0minfo\u001b[0m \u001b[1;33m==\u001b[0m \u001b[1;36m1\u001b[0m\u001b[1;33m:\u001b[0m \u001b[0mprint\u001b[0m\u001b[1;33m(\u001b[0m\u001b[1;34m'[INFO] Picking'\u001b[0m\u001b[1;33m,\u001b[0m \u001b[0mround\u001b[0m\u001b[1;33m(\u001b[0m\u001b[0mHistData\u001b[0m\u001b[1;33m.\u001b[0m\u001b[0mloc\u001b[0m\u001b[1;33m[\u001b[0m\u001b[0mHistData\u001b[0m\u001b[1;33m.\u001b[0m\u001b[0mindex\u001b[0m\u001b[1;33m.\u001b[0m\u001b[0mmax\u001b[0m\u001b[1;33m(\u001b[0m\u001b[1;33m)\u001b[0m\u001b[1;33m]\u001b[0m\u001b[1;33m[\u001b[0m\u001b[1;34m'PortValue'\u001b[0m\u001b[1;33m]\u001b[0m\u001b[1;33m,\u001b[0m\u001b[1;36m2\u001b[0m\u001b[1;33m)\u001b[0m\u001b[1;33m,\u001b[0m\u001b[1;34m' value from '\u001b[0m\u001b[1;33m,\u001b[0m \u001b[0mHistData\u001b[0m\u001b[1;33m.\u001b[0m\u001b[0mindex\u001b[0m\u001b[1;33m.\u001b[0m\u001b[0mmax\u001b[0m\u001b[1;33m(\u001b[0m\u001b[1;33m)\u001b[0m\u001b[1;33m.\u001b[0m\u001b[0mstrftime\u001b[0m\u001b[1;33m(\u001b[0m\u001b[1;34m'%Y-%m-%d'\u001b[0m\u001b[1;33m)\u001b[0m\u001b[1;33m,\u001b[0m \u001b[1;34m' as the latest valuation to base the monetary returns'\u001b[0m\u001b[1;33m)\u001b[0m\u001b[1;33m\u001b[0m\u001b[1;33m\u001b[0m\u001b[0m\n",
      "\u001b[1;31mNameError\u001b[0m: name 'HistData' is not defined"
     ]
    }
   ],
   "source": [
    "#Calculate the Portfolio's Percentage Change\n",
    "\n",
    "HistData['DollarChange'] = HistData.loc[HistData.index.max()]['PortValue'] * HistData['Perc_Change'] #calculate money change based on current valuation\n",
    "if info == 1: print('[INFO] Picking', round(HistData.loc[HistData.index.max()]['PortValue'],2),' value from ', HistData.index.max().strftime('%Y-%m-%d'), ' as the latest valuation to base the monetary returns')"
   ]
  },
  {
   "cell_type": "code",
   "execution_count": 14,
   "metadata": {},
   "outputs": [
    {
     "ename": "NameError",
     "evalue": "name 'HistData' is not defined",
     "output_type": "error",
     "traceback": [
      "\u001b[1;31m---------------------------------------------------------------------------\u001b[0m",
      "\u001b[1;31mNameError\u001b[0m                                 Traceback (most recent call last)",
      "\u001b[1;32m<ipython-input-14-6b8539a00718>\u001b[0m in \u001b[0;36m<module>\u001b[1;34m\u001b[0m\n\u001b[0;32m      1\u001b[0m \u001b[1;31m# Determine the n-th value we need to pick for our confidence interval\u001b[0m\u001b[1;33m\u001b[0m\u001b[1;33m\u001b[0m\u001b[1;33m\u001b[0m\u001b[0m\n\u001b[0;32m      2\u001b[0m \u001b[1;33m\u001b[0m\u001b[0m\n\u001b[1;32m----> 3\u001b[1;33m \u001b[0mValueLocForPercentile\u001b[0m \u001b[1;33m=\u001b[0m \u001b[0mround\u001b[0m\u001b[1;33m(\u001b[0m\u001b[0mlen\u001b[0m\u001b[1;33m(\u001b[0m\u001b[0mHistData\u001b[0m\u001b[1;33m)\u001b[0m \u001b[1;33m*\u001b[0m \u001b[1;33m(\u001b[0m\u001b[1;36m1\u001b[0m \u001b[1;33m-\u001b[0m \u001b[1;33m(\u001b[0m\u001b[0mPercentile\u001b[0m \u001b[1;33m/\u001b[0m \u001b[1;36m100\u001b[0m\u001b[1;33m)\u001b[0m\u001b[1;33m)\u001b[0m\u001b[1;33m)\u001b[0m\u001b[1;33m\u001b[0m\u001b[1;33m\u001b[0m\u001b[0m\n\u001b[0m\u001b[0;32m      4\u001b[0m \u001b[1;32mif\u001b[0m \u001b[0minfo\u001b[0m \u001b[1;33m==\u001b[0m \u001b[1;36m1\u001b[0m\u001b[1;33m:\u001b[0m \u001b[0mprint\u001b[0m\u001b[1;33m(\u001b[0m\u001b[1;34m'[INFO] Picking the'\u001b[0m\u001b[1;33m,\u001b[0m \u001b[0mValueLocForPercentile\u001b[0m\u001b[1;33m,\u001b[0m \u001b[1;34m'th highest value'\u001b[0m\u001b[1;33m)\u001b[0m\u001b[1;33m\u001b[0m\u001b[1;33m\u001b[0m\u001b[0m\n",
      "\u001b[1;31mNameError\u001b[0m: name 'HistData' is not defined"
     ]
    }
   ],
   "source": [
    "# Determine the n-th value we need to pick for our confidence interval\n",
    "\n",
    "ValueLocForPercentile = round(len(HistData) * (1 - (Percentile / 100)))\n",
    "if info == 1: print('[INFO] Picking the', ValueLocForPercentile, 'th highest value')"
   ]
  },
  {
   "cell_type": "code",
   "execution_count": null,
   "metadata": {},
   "outputs": [],
   "source": [
    "# Sort the data and select the value\n",
    "\n",
    "global SortedHistData\n",
    "SortedHistData = HistData.sort_values(by=['DollarChange'])\n",
    "if info == 1: print('[INFO] Sorting the results by highest max loss')"
   ]
  },
  {
   "cell_type": "code",
   "execution_count": null,
   "metadata": {},
   "outputs": [],
   "source": [
    "# Calculate our portfolio’s VaR value\n",
    "\n",
    "VaR_Result = SortedHistData.iloc[ValueLocForPercentile + 1,len(SortedHistData.columns)-1] * np.sqrt(VarDaysHorizon)\n",
    "print('The portfolio\\'s VaR is:', round(VaR_Result,2))"
   ]
  },
  {
   "cell_type": "code",
   "execution_count": null,
   "metadata": {},
   "outputs": [],
   "source": [
    "# Use a histogram to see how our portfolio returns fit with the assumption that we’ve made above\n",
    "\n",
    "import scipy\n",
    "import scipy.stats, matplotlib.pyplot as plt\n",
    "\n",
    "def plotme():\n",
    "    data1 = HistData['Perc_Change']\n",
    "    num_bins = 50\n",
    "    # the histogram of the data\n",
    "    n, bins, patches = plt.hist(data1, num_bins, normed=1, facecolor='green', alpha=0.5)\n",
    "    # add a 'best fit' line\n",
    "    sigma = HistData['Perc_Change'].std()\n",
    "    data2 = scipy.stats.norm.pdf(bins, 0, sigma)\n",
    "    plt.plot(bins, data2, 'r--')\n",
    "    plt.xlabel('Percentage Change')\n",
    "    plt.ylabel('Probability/Frequency')\n",
    "    # Tweak spacing to prevent clipping of ylabel\n",
    "    plt.subplots_adjust(left=0.15)\n",
    "    plt.show()\n",
    "\n",
    "plotme()"
   ]
  }
 ],
 "metadata": {
  "kernelspec": {
   "display_name": "Python 3",
   "language": "python",
   "name": "python3"
  },
  "language_info": {
   "codemirror_mode": {
    "name": "ipython",
    "version": 3
   },
   "file_extension": ".py",
   "mimetype": "text/x-python",
   "name": "python",
   "nbconvert_exporter": "python",
   "pygments_lexer": "ipython3",
   "version": "3.7.7"
  }
 },
 "nbformat": 4,
 "nbformat_minor": 4
}
