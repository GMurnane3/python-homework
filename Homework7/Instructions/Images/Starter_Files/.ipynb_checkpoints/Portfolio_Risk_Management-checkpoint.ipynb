{
 "cells": [
  {
   "cell_type": "code",
   "execution_count": null,
   "metadata": {},
   "outputs": [
    {
     "name": "stderr",
     "output_type": "stream",
     "text": [
      "\n",
      "Bad key savefig.frameon in file C:\\Users\\gmurn\\anaconda3\\envs\\dev\\lib\\site-packages\\matplotlib\\mpl-data\\stylelib\\_classic_test.mplstyle, line 421 ('savefig.frameon : True')\n",
      "You probably need to get an updated matplotlibrc file from\n",
      "https://github.com/matplotlib/matplotlib/blob/v3.3.2/matplotlibrc.template\n",
      "or from the matplotlib source distribution\n",
      "\n",
      "Bad key verbose.level in file C:\\Users\\gmurn\\anaconda3\\envs\\dev\\lib\\site-packages\\matplotlib\\mpl-data\\stylelib\\_classic_test.mplstyle, line 472 ('verbose.level  : silent      # one of silent, helpful, debug, debug-annoying')\n",
      "You probably need to get an updated matplotlibrc file from\n",
      "https://github.com/matplotlib/matplotlib/blob/v3.3.2/matplotlibrc.template\n",
      "or from the matplotlib source distribution\n",
      "\n",
      "Bad key verbose.fileo in file C:\\Users\\gmurn\\anaconda3\\envs\\dev\\lib\\site-packages\\matplotlib\\mpl-data\\stylelib\\_classic_test.mplstyle, line 473 ('verbose.fileo  : sys.stdout  # a log filename, sys.stdout or sys.stderr')\n",
      "You probably need to get an updated matplotlibrc file from\n",
      "https://github.com/matplotlib/matplotlib/blob/v3.3.2/matplotlibrc.template\n",
      "or from the matplotlib source distribution\n",
      "In C:\\Users\\gmurn\\anaconda3\\envs\\dev\\lib\\site-packages\\matplotlib\\mpl-data\\stylelib\\_classic_test.mplstyle: \n",
      "The text.latex.preview rcparam was deprecated in Matplotlib 3.3 and will be removed two minor releases later.\n",
      "In C:\\Users\\gmurn\\anaconda3\\envs\\dev\\lib\\site-packages\\matplotlib\\mpl-data\\stylelib\\_classic_test.mplstyle: \n",
      "The mathtext.fallback_to_cm rcparam was deprecated in Matplotlib 3.3 and will be removed two minor releases later.\n",
      "In C:\\Users\\gmurn\\anaconda3\\envs\\dev\\lib\\site-packages\\matplotlib\\mpl-data\\stylelib\\_classic_test.mplstyle: Support for setting the 'mathtext.fallback_to_cm' rcParam is deprecated since 3.3 and will be removed two minor releases later; use 'mathtext.fallback : 'cm' instead.\n",
      "In C:\\Users\\gmurn\\anaconda3\\envs\\dev\\lib\\site-packages\\matplotlib\\mpl-data\\stylelib\\_classic_test.mplstyle: \n",
      "The validate_bool_maybe_none function was deprecated in Matplotlib 3.3 and will be removed two minor releases later.\n",
      "In C:\\Users\\gmurn\\anaconda3\\envs\\dev\\lib\\site-packages\\matplotlib\\mpl-data\\stylelib\\_classic_test.mplstyle: \n",
      "The savefig.jpeg_quality rcparam was deprecated in Matplotlib 3.3 and will be removed two minor releases later.\n",
      "In C:\\Users\\gmurn\\anaconda3\\envs\\dev\\lib\\site-packages\\matplotlib\\mpl-data\\stylelib\\_classic_test.mplstyle: \n",
      "The keymap.all_axes rcparam was deprecated in Matplotlib 3.3 and will be removed two minor releases later.\n",
      "In C:\\Users\\gmurn\\anaconda3\\envs\\dev\\lib\\site-packages\\matplotlib\\mpl-data\\stylelib\\_classic_test.mplstyle: \n",
      "The animation.avconv_path rcparam was deprecated in Matplotlib 3.3 and will be removed two minor releases later.\n",
      "In C:\\Users\\gmurn\\anaconda3\\envs\\dev\\lib\\site-packages\\matplotlib\\mpl-data\\stylelib\\_classic_test.mplstyle: \n",
      "The animation.avconv_args rcparam was deprecated in Matplotlib 3.3 and will be removed two minor releases later.\n"
     ]
    }
   ],
   "source": [
    "#Importing all required libraries\n",
    "\n",
    "import matplotlib.pyplot as plt\n",
    "import numpy as np\n",
    "import pandas as pd\n",
    "import pandas_datareader as web\n",
    "from matplotlib.ticker import FuncFormatter\n",
    "!pip install PyPortfolioOpt\n",
    "\n",
    "#Installing the Portfolio Optimzation Library\n",
    "from pypfopt.efficient_frontier import EfficientFrontier\n",
    "from pypfopt import risk_models\n",
    "from pypfopt import expected_returns\n",
    "from matplotlib.ticker import FuncFormatter"
   ]
  },
  {
   "cell_type": "code",
   "execution_count": null,
   "metadata": {},
   "outputs": [],
   "source": [
    "tickers = ['GOOGL','FB','AAPL','NFLX','AMZN']\n",
    "thelen = len(tickers)\n",
    "price_data = []\n",
    "for ticker in range(thelen):\n",
    "    \n",
    "   prices = web.DataReader(tickers[ticker], start='2018-06-20', end = '2020-06-20', data_source='yahoo')\n",
    "\n",
    "   price_data.append(prices[['Adj Close']])\n",
    "    \n",
    "df_stocks = pd.concat(price_data, axis=1)\n",
    "df_stocks.columns=tickers\n",
    "df_stocks.tail()"
   ]
  },
  {
   "cell_type": "code",
   "execution_count": null,
   "metadata": {},
   "outputs": [],
   "source": [
    "#Annualized Return\n",
    "mu = expected_returns.mean_historical_return(df_stocks)\n",
    "#Sample Variance of Portfolio\n",
    "Sigma = risk_models.sample_cov(df_stocks)\n",
    "\n",
    "#Max Sharpe Ratio - Tangent to the EF\n",
    "from pypfopt import objective_functions, base_optimizer\n",
    "ef = EfficientFrontier(mu, Sigma, weight_bounds=(0,1)) #weight bounds in negative allows shorting of stocks\n",
    "sharpe_pfolio=ef.max_sharpe() \n",
    "\n",
    "#May use add objective to ensure minimum zero weighting to individual stocks\n",
    "sharpe_pwt=ef.clean_weights()\n",
    "print(sharpe_pwt)"
   ]
  },
  {
   "cell_type": "code",
   "execution_count": null,
   "metadata": {},
   "outputs": [],
   "source": [
    "#VaR Calculation\n",
    "ticker_rx2 = []\n",
    "\n",
    "#Convert Dictionary to list of asset weights from Max Sharpe Ratio Portfolio\n",
    "\n",
    "sh_wt = list(sharpe_pwt.values())\n",
    "sh_wt=np.array(sh_wt)"
   ]
  },
  {
   "cell_type": "code",
   "execution_count": null,
   "metadata": {},
   "outputs": [],
   "source": [
    "for a in range(thelen):\n",
    "    \n",
    "  ticker_rx = df_stocks[[tickers[a]]].pct_change()\n",
    "  ticker_rx = (ticker_rx+1).cumprod()\n",
    "  ticker_rx2.append(ticker_rx[[tickers[a]]])\n",
    "\n",
    "ticker_final = pd.concat(ticker_rx2,axis=1)\n",
    "ticker_final"
   ]
  },
  {
   "cell_type": "code",
   "execution_count": null,
   "metadata": {},
   "outputs": [],
   "source": [
    "#Plot graph of Cumulative/HPR of all stocks\n",
    "\n",
    "for i, col in enumerate(ticker_final.columns):\n",
    "  ticker_final[col].plot()\n",
    "\n",
    "plt.title('Cumulative Returns')\n",
    "plt.xticks(rotation=80)\n",
    "plt.legend(ticker_final.columns)\n",
    "\n",
    "#Saving the graph into a JPG file\n",
    "plt.savefig('CR.png', bbox_inches='tight')"
   ]
  },
  {
   "cell_type": "code",
   "execution_count": null,
   "metadata": {},
   "outputs": [],
   "source": [
    "#Taking Latest Values of Return\n",
    "\n",
    "pret = []\n",
    "pre1 = []\n",
    "price =[]\n",
    "\n",
    "for x in range(thelen):\n",
    "  pret.append(ticker_final.iloc[[-1],[x]])\n",
    "  price.append((df_stocks.iloc[[-1],[x]]))\n",
    "    \n",
    "pre1 = pd.concat(pret,axis=1)\n",
    "pre1 = np.array(pre1)\n",
    "price = pd.concat(price,axis=1)\n",
    "varsigma = pre1.std()\n",
    "ex_rtn=pre1.dot(sh_wt)\n",
    "\n",
    "print('The weighted expected portfolio return for selected time period is'+ str(ex_rtn))\n",
    "\n",
    "#ex_rtn = (ex_rtn)**0.5-(1) #Annualizing the cumulative return (will not affect outcome)\n",
    "\n",
    "price=price.dot(sh_wt) #Calculating weighted value\n",
    "print(ex_rtn, varsigma,price)"
   ]
  },
  {
   "cell_type": "code",
   "execution_count": null,
   "metadata": {},
   "outputs": [],
   "source": [
    "from scipy.stats import norm\n",
    "\n",
    "import math\n",
    "\n",
    "Time=1440 #No of days(steps or trading days in this case)\n",
    "\n",
    "lt_price=[]\n",
    "\n",
    "final_res=[]\n",
    "\n",
    "for i in range(10000): #10000 runs of simulation\n",
    "    \n",
    "  daily_return=(np.random.normal(ex_rtn/Time,varsigma/math.sqrt(Time),Time))\n",
    "  plt.plot(daily_returns)\n",
    "    \n",
    "plt.axhline(np.percentile(daily_returns,5), color='r', linestyle='dashed', linewidth=1)\n",
    "\n",
    "plt.axhline(np.percentile(daily_returns,95), color='g', linestyle='dashed', linewidth=1)\n",
    "\n",
    "plt.axhline(np.mean(daily_returns), color='b', linestyle='solid', linewidth=1)\n",
    "\n",
    "plt.show()"
   ]
  },
  {
   "cell_type": "code",
   "execution_count": null,
   "metadata": {},
   "outputs": [],
   "source": [
    "plt.hist(daily_returns,bins=15)\n",
    "\n",
    "plt.axvline(np.percentile(daily_returns,5), color='r', linestyle='dashed', linewidth=2)\n",
    "\n",
    "plt.axvline(np.percentile(daily_returns,95), color='r', linestyle='dashed', linewidth=2)\n",
    "\n",
    "plt.show()"
   ]
  },
  {
   "cell_type": "code",
   "execution_count": null,
   "metadata": {},
   "outputs": [],
   "source": [
    "print(np.percentile(daily_returns,5),np.percentile(daily_returns,95)) #VaR - Minimum loss of 5.7% at a 5% probability, also a gain can be higher than 15% with a 5 % probability\n",
    "\n",
    "pvalue = 1000 #portfolio value\n",
    "\n",
    "print('$Amount required to cover minimum losses for one day is ' + str(pvalue* - np.percentile(daily_returns,5)))"
   ]
  }
 ],
 "metadata": {
  "kernelspec": {
   "display_name": "Python 3",
   "language": "python",
   "name": "python3"
  },
  "language_info": {
   "codemirror_mode": {
    "name": "ipython",
    "version": 3
   },
   "file_extension": ".py",
   "mimetype": "text/x-python",
   "name": "python",
   "nbconvert_exporter": "python",
   "pygments_lexer": "ipython3",
   "version": "3.7.7"
  }
 },
 "nbformat": 4,
 "nbformat_minor": 4
}
