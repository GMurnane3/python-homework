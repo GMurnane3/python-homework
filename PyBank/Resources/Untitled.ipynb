{
 "cells": [
  {
   "cell_type": "code",
   "execution_count": 1,
   "metadata": {},
   "outputs": [],
   "source": [
    "from pathlib import Path\n",
    "import csv"
   ]
  },
  {
   "cell_type": "code",
   "execution_count": 3,
   "metadata": {},
   "outputs": [],
   "source": [
    "filepath = Path('sales.csv')"
   ]
  },
  {
   "cell_type": "code",
   "execution_count": 19,
   "metadata": {},
   "outputs": [
    {
     "name": "stdout",
     "output_type": "stream",
     "text": [
      "Count\n",
      "Revenue\n",
      "9\n",
      "58\n",
      "8\n",
      "377\n",
      "5\n",
      "302\n",
      "1\n",
      "75\n",
      "1\n",
      "334\n",
      "7\n",
      "146\n",
      "1\n",
      "178\n",
      "7\n",
      "313\n",
      "8\n",
      "103\n",
      "5\n",
      "344\n",
      "5\n",
      "349\n",
      "8\n",
      "61\n",
      "4\n",
      "196\n",
      "1\n",
      "374\n",
      "9\n",
      "220\n",
      "9\n",
      "321\n",
      "7\n",
      "277\n",
      "2\n",
      "246\n",
      "9\n",
      "198\n",
      "5\n",
      "221\n",
      "1\n",
      "191\n",
      "5\n",
      "399\n",
      "1\n",
      "300\n",
      "1\n",
      "345\n",
      "4\n",
      "202\n",
      "4\n",
      "305\n",
      "6\n",
      "249\n",
      "7\n",
      "113\n",
      "6\n",
      "256\n"
     ]
    }
   ],
   "source": [
    "with open(filepath, 'r') as csvfile:\n",
    "    \n",
    "    csvreader = csv.reader(csvfile, delimiter=',')\n",
    "    analysis = {}\n",
    "    \n",
    "    for line in csvreader:   \n",
    "        name = line[0]\n",
    "        count = line[1]\n",
    "        revenue = line[2]\n",
    "        analysis[name] = {\"count\": count, \"revenue\": revenue}\n",
    "        \n",
    "        analysis[name]['count'] += count\n",
    "        analysis[name]['revenue'] += revenue\n",
    "\n",
    "        print(count)\n",
    "        print(revenue)"
   ]
  },
  {
   "cell_type": "code",
   "execution_count": null,
   "metadata": {},
   "outputs": [],
   "source": []
  },
  {
   "cell_type": "code",
   "execution_count": null,
   "metadata": {},
   "outputs": [],
   "source": []
  }
 ],
 "metadata": {
  "kernelspec": {
   "display_name": "Python 3",
   "language": "python",
   "name": "python3"
  },
  "language_info": {
   "codemirror_mode": {
    "name": "ipython",
    "version": 3
   },
   "file_extension": ".py",
   "mimetype": "text/x-python",
   "name": "python",
   "nbconvert_exporter": "python",
   "pygments_lexer": "ipython3",
   "version": "3.8.3"
  }
 },
 "nbformat": 4,
 "nbformat_minor": 4
}
