{
 "cells": [
  {
   "cell_type": "code",
   "execution_count": 45,
   "metadata": {},
   "outputs": [],
   "source": [
    "import csv\n",
    "\n",
    "with open(\"D:/gmurn/OneDrive/Documents/ASU FinTech/python-homework/PyBank/PyBank_Data.csv\", mode='r') as infile:\n",
    "    reader = csv.reader(infile)\n",
    "    with open('PyBank_data_new.csv', mode='w') as outfile:\n",
    "        writer = csv.writer(outfile)\n",
    "        mydict = {rows[0]:int(rows[1]) for rows in reader}\n",
    "        \n",
    "counter = 1\n",
    "change = 0\n",
    "change1 = 0\n",
    "final = 0\n",
    "final1 = 0\n",
    "maximum = 0\n",
    "max_date = \"\"\n",
    "minimum = 0\n",
    "min_date = \"\"\n",
    "\n",
    "change = [(key, value) for key, value in mydict.items()]\n",
    "\n",
    "for rows in mydict:\n",
    "    \n",
    "    if counter < len(mydict):\n",
    "        final = change[counter][1] - change[counter-1][1]\n",
    "        final1 += final \n",
    "        \n",
    "        if change[counter][1] - change[counter-1][1] > maximum:\n",
    "            maximum = change[counter][1] - change[counter-1][1]\n",
    "            max_date = change[counter][0]\n",
    "        \n",
    "        if change[counter][1] - change[counter-1][1] < minimum:\n",
    "            minimum = change[counter][1] - change[counter-1][1]\n",
    "            min_date = change[counter][0]\n",
    "            \n",
    "        counter += 1\n",
    "    else:\n",
    "        average_change = final1 / (len(mydict) - 1)"
   ]
  },
  {
   "cell_type": "code",
   "execution_count": 46,
   "metadata": {},
   "outputs": [],
   "source": [
    "# print(mydict)"
   ]
  },
  {
   "cell_type": "code",
   "execution_count": 51,
   "metadata": {},
   "outputs": [
    {
     "name": "stdout",
     "output_type": "stream",
     "text": [
      "Financial Analysis\n",
      "----------------------------\n",
      "Total Months: 86\n",
      "Average Change: $-2315.12\n",
      "Greatest increase in profits: Feb-12 ($1926159)\n",
      "Greatest decrease in profits: Sep-13 ($-2196167)\n"
     ]
    }
   ],
   "source": [
    "print('Financial Analysis')\n",
    "print('----------------------------')\n",
    "\n",
    "print(f'Total Months: {len(mydict)}')\n",
    "\n",
    "print(f'Average Change: ${round(average_change, 2)}')\n",
    "\n",
    "print(f'Greatest increase in profits: {max_date} (${maximum})')\n",
    "print(f'Greatest decrease in profits: {min_date} (${minimum})')"
   ]
  },
  {
   "cell_type": "code",
   "execution_count": 52,
   "metadata": {},
   "outputs": [],
   "source": [
    "filepath_output = Path(\"output.txt\")\n",
    "with open(filepath_output, 'w') as file:\n",
    "    file.write('Financial Analysis\\n')\n",
    "    file.write('----------------------------\\n')\n",
    "    file.write(f'Total Months: {len(mydict)}\\n')\n",
    "    file.write(f'Average Change: ${round(average_change, 2)}\\n')\n",
    "    file.write(f'Greatest increase in profits: {max_date} (${maximum})\\n')\n",
    "    file.write(f'Greatest decrease in profits: {min_date} (${minimum})\\n')"
   ]
  },
  {
   "cell_type": "code",
   "execution_count": null,
   "metadata": {},
   "outputs": [],
   "source": []
  }
 ],
 "metadata": {
  "kernelspec": {
   "display_name": "Python 3",
   "language": "python",
   "name": "python3"
  },
  "language_info": {
   "codemirror_mode": {
    "name": "ipython",
    "version": 3
   },
   "file_extension": ".py",
   "mimetype": "text/x-python",
   "name": "python",
   "nbconvert_exporter": "python",
   "pygments_lexer": "ipython3",
   "version": "3.8.3"
  }
 },
 "nbformat": 4,
 "nbformat_minor": 4
}
